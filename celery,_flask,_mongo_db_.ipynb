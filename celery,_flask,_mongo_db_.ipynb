{
  "nbformat": 4,
  "nbformat_minor": 0,
  "metadata": {
    "colab": {
      "provenance": [],
      "authorship_tag": "ABX9TyOy6BFIyCI2+j6ycJtpFrm+",
      "include_colab_link": true
    },
    "kernelspec": {
      "name": "python3",
      "display_name": "Python 3"
    },
    "language_info": {
      "name": "python"
    }
  },
  "cells": [
    {
      "cell_type": "markdown",
      "metadata": {
        "id": "view-in-github",
        "colab_type": "text"
      },
      "source": [
        "<a href=\"https://colab.research.google.com/github/pavansai26/web-scrapping/blob/master/celery%2C_flask%2C_mongo_db_.ipynb\" target=\"_parent\"><img src=\"https://colab.research.google.com/assets/colab-badge.svg\" alt=\"Open In Colab\"/></a>"
      ]
    },
    {
      "cell_type": "code",
      "execution_count": 1,
      "metadata": {
        "colab": {
          "base_uri": "https://localhost:8080/"
        },
        "id": "2aBLIPR8bUfB",
        "outputId": "25fe95a2-74a0-46b7-d787-64705bbbb0ce"
      },
      "outputs": [
        {
          "output_type": "stream",
          "name": "stdout",
          "text": [
            "Looking in indexes: https://pypi.org/simple, https://us-python.pkg.dev/colab-wheels/public/simple/\n",
            "Requirement already satisfied: Flask in /usr/local/lib/python3.9/dist-packages (2.2.3)\n",
            "Requirement already satisfied: Werkzeug>=2.2.2 in /usr/local/lib/python3.9/dist-packages (from Flask) (2.2.3)\n",
            "Requirement already satisfied: itsdangerous>=2.0 in /usr/local/lib/python3.9/dist-packages (from Flask) (2.1.2)\n",
            "Requirement already satisfied: click>=8.0 in /usr/local/lib/python3.9/dist-packages (from Flask) (8.1.3)\n",
            "Requirement already satisfied: Jinja2>=3.0 in /usr/local/lib/python3.9/dist-packages (from Flask) (3.1.2)\n",
            "Requirement already satisfied: importlib-metadata>=3.6.0 in /usr/local/lib/python3.9/dist-packages (from Flask) (6.4.1)\n",
            "Requirement already satisfied: zipp>=0.5 in /usr/local/lib/python3.9/dist-packages (from importlib-metadata>=3.6.0->Flask) (3.15.0)\n",
            "Requirement already satisfied: MarkupSafe>=2.0 in /usr/local/lib/python3.9/dist-packages (from Jinja2>=3.0->Flask) (2.1.2)\n",
            "Looking in indexes: https://pypi.org/simple, https://us-python.pkg.dev/colab-wheels/public/simple/\n",
            "Collecting celery\n",
            "  Downloading celery-5.2.7-py3-none-any.whl (405 kB)\n",
            "\u001b[2K     \u001b[90m━━━━━━━━━━━━━━━━━━━━━━━━━━━━━━━━━━━━━━━\u001b[0m \u001b[32m405.6/405.6 kB\u001b[0m \u001b[31m7.8 MB/s\u001b[0m eta \u001b[36m0:00:00\u001b[0m\n",
            "\u001b[?25hCollecting click-plugins>=1.1.1\n",
            "  Downloading click_plugins-1.1.1-py2.py3-none-any.whl (7.5 kB)\n",
            "Requirement already satisfied: click<9.0,>=8.0.3 in /usr/local/lib/python3.9/dist-packages (from celery) (8.1.3)\n",
            "Collecting kombu<6.0,>=5.2.3\n",
            "  Downloading kombu-5.2.4-py3-none-any.whl (189 kB)\n",
            "\u001b[2K     \u001b[90m━━━━━━━━━━━━━━━━━━━━━━━━━━━━━━━━━━━━━━\u001b[0m \u001b[32m189.2/189.2 kB\u001b[0m \u001b[31m16.0 MB/s\u001b[0m eta \u001b[36m0:00:00\u001b[0m\n",
            "\u001b[?25hCollecting billiard<4.0,>=3.6.4.0\n",
            "  Downloading billiard-3.6.4.0-py3-none-any.whl (89 kB)\n",
            "\u001b[2K     \u001b[90m━━━━━━━━━━━━━━━━━━━━━━━━━━━━━━━━━━━━━━━━\u001b[0m \u001b[32m89.5/89.5 kB\u001b[0m \u001b[31m9.6 MB/s\u001b[0m eta \u001b[36m0:00:00\u001b[0m\n",
            "\u001b[?25hRequirement already satisfied: pytz>=2021.3 in /usr/local/lib/python3.9/dist-packages (from celery) (2022.7.1)\n",
            "Collecting click-didyoumean>=0.0.3\n",
            "  Downloading click_didyoumean-0.3.0-py3-none-any.whl (2.7 kB)\n",
            "Collecting click-repl>=0.2.0\n",
            "  Downloading click_repl-0.2.0-py3-none-any.whl (5.2 kB)\n",
            "Collecting vine<6.0,>=5.0.0\n",
            "  Downloading vine-5.0.0-py2.py3-none-any.whl (9.4 kB)\n",
            "Requirement already satisfied: six in /usr/local/lib/python3.9/dist-packages (from click-repl>=0.2.0->celery) (1.16.0)\n",
            "Requirement already satisfied: prompt-toolkit in /usr/local/lib/python3.9/dist-packages (from click-repl>=0.2.0->celery) (3.0.38)\n",
            "Collecting amqp<6.0.0,>=5.0.9\n",
            "  Downloading amqp-5.1.1-py3-none-any.whl (50 kB)\n",
            "\u001b[2K     \u001b[90m━━━━━━━━━━━━━━━━━━━━━━━━━━━━━━━━━━━━━━━━\u001b[0m \u001b[32m50.8/50.8 kB\u001b[0m \u001b[31m5.6 MB/s\u001b[0m eta \u001b[36m0:00:00\u001b[0m\n",
            "\u001b[?25hRequirement already satisfied: wcwidth in /usr/local/lib/python3.9/dist-packages (from prompt-toolkit->click-repl>=0.2.0->celery) (0.2.6)\n",
            "Installing collected packages: billiard, vine, click-plugins, click-didyoumean, click-repl, amqp, kombu, celery\n",
            "Successfully installed amqp-5.1.1 billiard-3.6.4.0 celery-5.2.7 click-didyoumean-0.3.0 click-plugins-1.1.1 click-repl-0.2.0 kombu-5.2.4 vine-5.0.0\n",
            "Looking in indexes: https://pypi.org/simple, https://us-python.pkg.dev/colab-wheels/public/simple/\n",
            "Collecting flask-mongoengine\n",
            "  Downloading flask_mongoengine-1.0.0-py3-none-any.whl (25 kB)\n",
            "Collecting Flask-WTF>=0.14.3\n",
            "  Downloading Flask_WTF-1.1.1-py3-none-any.whl (12 kB)\n",
            "Requirement already satisfied: Flask>=1.1.2 in /usr/local/lib/python3.9/dist-packages (from flask-mongoengine) (2.2.3)\n",
            "Collecting mongoengine>=0.20\n",
            "  Downloading mongoengine-0.27.0-py3-none-any.whl (110 kB)\n",
            "\u001b[2K     \u001b[90m━━━━━━━━━━━━━━━━━━━━━━━━━━━━━━━━━━━━━━━\u001b[0m \u001b[32m110.6/110.6 kB\u001b[0m \u001b[31m6.7 MB/s\u001b[0m eta \u001b[36m0:00:00\u001b[0m\n",
            "\u001b[?25hCollecting WTForms[email]>=2.3.1\n",
            "  Downloading WTForms-3.0.1-py3-none-any.whl (136 kB)\n",
            "\u001b[2K     \u001b[90m━━━━━━━━━━━━━━━━━━━━━━━━━━━━━━━━━━━━━━\u001b[0m \u001b[32m136.5/136.5 kB\u001b[0m \u001b[31m15.4 MB/s\u001b[0m eta \u001b[36m0:00:00\u001b[0m\n",
            "\u001b[?25hRequirement already satisfied: importlib-metadata>=3.6.0 in /usr/local/lib/python3.9/dist-packages (from Flask>=1.1.2->flask-mongoengine) (6.4.1)\n",
            "Requirement already satisfied: click>=8.0 in /usr/local/lib/python3.9/dist-packages (from Flask>=1.1.2->flask-mongoengine) (8.1.3)\n",
            "Requirement already satisfied: itsdangerous>=2.0 in /usr/local/lib/python3.9/dist-packages (from Flask>=1.1.2->flask-mongoengine) (2.1.2)\n",
            "Requirement already satisfied: Werkzeug>=2.2.2 in /usr/local/lib/python3.9/dist-packages (from Flask>=1.1.2->flask-mongoengine) (2.2.3)\n",
            "Requirement already satisfied: Jinja2>=3.0 in /usr/local/lib/python3.9/dist-packages (from Flask>=1.1.2->flask-mongoengine) (3.1.2)\n",
            "Collecting pymongo<5.0,>=3.4\n",
            "  Downloading pymongo-4.3.3-cp39-cp39-manylinux_2_17_x86_64.manylinux2014_x86_64.whl (492 kB)\n",
            "\u001b[2K     \u001b[90m━━━━━━━━━━━━━━━━━━━━━━━━━━━━━━━━━━━━━━\u001b[0m \u001b[32m492.1/492.1 kB\u001b[0m \u001b[31m24.8 MB/s\u001b[0m eta \u001b[36m0:00:00\u001b[0m\n",
            "\u001b[?25hRequirement already satisfied: MarkupSafe in /usr/local/lib/python3.9/dist-packages (from WTForms[email]>=2.3.1->flask-mongoengine) (2.1.2)\n",
            "Collecting email-validator\n",
            "  Downloading email_validator-2.0.0.post2-py3-none-any.whl (31 kB)\n",
            "Requirement already satisfied: zipp>=0.5 in /usr/local/lib/python3.9/dist-packages (from importlib-metadata>=3.6.0->Flask>=1.1.2->flask-mongoengine) (3.15.0)\n",
            "Collecting dnspython<3.0.0,>=1.16.0\n",
            "  Downloading dnspython-2.3.0-py3-none-any.whl (283 kB)\n",
            "\u001b[2K     \u001b[90m━━━━━━━━━━━━━━━━━━━━━━━━━━━━━━━━━━━━━━\u001b[0m \u001b[32m283.7/283.7 kB\u001b[0m \u001b[31m24.6 MB/s\u001b[0m eta \u001b[36m0:00:00\u001b[0m\n",
            "\u001b[?25hRequirement already satisfied: idna>=2.0.0 in /usr/local/lib/python3.9/dist-packages (from email-validator->WTForms[email]>=2.3.1->flask-mongoengine) (3.4)\n",
            "Installing collected packages: WTForms, dnspython, pymongo, email-validator, mongoengine, Flask-WTF, flask-mongoengine\n",
            "Successfully installed Flask-WTF-1.1.1 WTForms-3.0.1 dnspython-2.3.0 email-validator-2.0.0.post2 flask-mongoengine-1.0.0 mongoengine-0.27.0 pymongo-4.3.3\n"
          ]
        }
      ],
      "source": [
        "!pip install Flask\n",
        "!pip install celery\n",
        "!pip install flask-mongoengine"
      ]
    },
    {
      "cell_type": "code",
      "source": [
        "from flask import Flask, request\n",
        "from celery import Celery\n",
        "from flask_mongoengine import MongoEngine\n",
        "import time\n"
      ],
      "metadata": {
        "id": "tw2vG4_Qb-Kw"
      },
      "execution_count": 2,
      "outputs": []
    },
    {
      "cell_type": "code",
      "source": [
        "# Initialize Flask app\n",
        "app = Flask(__name__)\n",
        "\n",
        "# Initialize Celery app\n",
        "celery = Celery(app.name, broker='amqp://guest@localhost//', backend='mongodb://localhost:27017/celery')\n",
        "\n",
        "db = MongoEngine()\n",
        "\n",
        "# Define Flask route to submit task for processing\n",
        "@app.route('/process', methods=['POST'])\n",
        "def process_task():\n",
        "    # Get task data from request JSON\n",
        "    task_data = request.json\n",
        "    # Submit task to Celery for processing using the `process_data` task\n",
        "    result = process_data.delay(task_data)\n",
        "    # Return task ID to user\n",
        "    return {'task_id': result.id}\n",
        "\n",
        "# Define Celery task to process data asynchronously\n",
        "@celery.task\n",
        "def process_data(task_data):\n",
        "    # Simulate some processing time\n",
        "    time.sleep(10)\n",
        "    # Perform processing with the task data\n",
        "    result_data = task_data * 2\n",
        "    # Save the result to MongoDB using the `Results` model\n",
        "    result = Results(data=result_data)\n",
        "    result.save()\n",
        "    # Return ID of the result document to the calling function\n",
        "    return result.id\n",
        "\n",
        "# Define MongoDB model to store results\n",
        "class Results(db.Document):\n",
        "    data = db.StringField(required=True)\n",
        "\n",
        "# Start the Celery worker process\n",
        "celery -A app.celery worker --loglevel=info\n",
        "\n",
        "# Start the Flask application\n",
        "if __name__ == '__main__':\n",
        "    app.run(debug=True)\n"
      ],
      "metadata": {
        "id": "IwZC5QIxcR13"
      },
      "execution_count": null,
      "outputs": []
    }
  ]
}